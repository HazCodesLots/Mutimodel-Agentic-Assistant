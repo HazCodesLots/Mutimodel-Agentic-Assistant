{
 "cells": [
  {
   "cell_type": "code",
   "execution_count": null,
   "id": "a3635f50-9d4b-48ec-8d7d-f8c1e09358a1",
   "metadata": {},
   "outputs": [],
   "source": [
    "from transformers import Blip2Processor, Blip2ForConditionalGeneration\n",
    "from PIL import Image\n",
    "import torch\n",
    "\n",
    "processor = Blip2Processor.from_pretrained(\"Salesforce/blip2-flan-t5-xl\")\n",
    "model = Blip2ForConditionalGeneration.from_pretrained(\n",
    "    \"Salesforce/blip2-flan-t5-xl\",\n",
    "    torch_dtype=torch.float16\n",
    ")\n",
    "\n",
    "device = torch.device(\"cuda\" if torch.cuda.is_available() else \"cpu\")\n",
    "model.to(device)\n",
    "\n",
    "def ask_image_question(image_path, question):\n",
    "    image = Image.open(image_path).convert('RGB')\n",
    "    inputs = processor(image, question=question, return_tensors=\"pt\").to(device)\n",
    "    out = model.generate(**inputs)\n",
    "    return processor.decode(out[0], skip_special_tokens=True)"
   ]
  },
  {
   "cell_type": "code",
   "execution_count": null,
   "id": "650a7808-6d6f-424b-a8f4-06d5f38c711f",
   "metadata": {},
   "outputs": [],
   "source": [
    "from llama_cpp import Llama\n",
    "import os\n",
    "\n",
    "openhermes_path = r\"C:\\GGUF\\TheBloke\\OpenHermes-2.5-Mistral-7B-GGUF\\openhermes-2.5-mistral-7b.Q4_K_M.gguf\"\n",
    "\n",
    "OpenHermes = Llama(\n",
    "    model_path=openhermes_path,\n",
    "    n_gpu_layers=20,\n",
    "    n_ctx=2048,\n",
    "    n_batch=256,\n",
    "    n_threads=6,\n",
    "    use_mlock=True,\n",
    "    verbose=True\n",
    ")"
   ]
  },
  {
   "cell_type": "code",
   "execution_count": null,
   "id": "2c83e6df-1d28-4ea9-806b-17acad3c993c",
   "metadata": {},
   "outputs": [],
   "source": [
    "def blip2_to_openhermes(image_path, question):\n",
    "    print(f\"❓ QnA: {question}\")\n",
    "    \n",
    "    visual_answer = ask_image_question(image_path, question)\n",
    "    print(\"📸 BLIP-2 Answer:\", visual_answer)\n",
    "\n",
    "    hermes_prompt = (\n",
    "        f\"The image was analyzed and the answer to the question \"\n",
    "        f\"'{question}' is: '{visual_answer}'. Can you provide a deeper interpretation?\"\n",
    "    )\n",
    "    full_prompt = f\"<|user|>\\n{hermes_prompt}\\n<|assistant|>\\n\"\n",
    "\n",
    "    response = OpenHermes(full_prompt, max_tokens=300, stop=[\"<|user|>\"])\n",
    "    hermes_text = response[\"choices\"][0][\"text\"]"
   ]
  },
  {
   "cell_type": "code",
   "execution_count": null,
   "id": "12c37e05-0aca-4065-b7d1-deba834177c6",
   "metadata": {},
   "outputs": [],
   "source": []
  }
 ],
 "metadata": {
  "kernelspec": {
   "display_name": "Python [conda env:py310-cuda]",
   "language": "python",
   "name": "conda-env-py310-cuda-py"
  },
  "language_info": {
   "codemirror_mode": {
    "name": "ipython",
    "version": 3
   },
   "file_extension": ".py",
   "mimetype": "text/x-python",
   "name": "python",
   "nbconvert_exporter": "python",
   "pygments_lexer": "ipython3",
   "version": "3.10.18"
  }
 },
 "nbformat": 4,
 "nbformat_minor": 5
}
